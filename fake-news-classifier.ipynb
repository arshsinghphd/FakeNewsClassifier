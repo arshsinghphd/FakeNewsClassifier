{
 "cells": [
  {
   "cell_type": "markdown",
   "id": "1bff9ecf",
   "metadata": {
    "papermill": {
     "duration": 0.007124,
     "end_time": "2023-01-15T03:06:16.451850",
     "exception": false,
     "start_time": "2023-01-15T03:06:16.444726",
     "status": "completed"
    },
    "tags": []
   },
   "source": [
    "#### WELFake Data Set\n",
    "(WELFake) is a dataset of 72,134 news articles with 35,028 real and 37,106 fake news. For this, authors merged four popular news datasets (i.e. Kaggle, McIntire, Reuters, BuzzFeed Political) to prevent over-fitting of classifiers and to provide more text data for better ML training. \n",
    "\n",
    "Dataset contains four columns: Serial number (starting from 0); Title (about the text news heading); Text (about the news content); and Label (0 = fake and 1 = real).\n",
    "\n",
    "Dataset originally compiled by <a href=\"https://ieeexplore.ieee.org/document/9395133\">P. K. Verma, P. Agrawal, I. Amorim and R. Prodan, \"WELFake: Word Embedding Over Linguistic Features for Fake News Detection,\" in IEEE Transactions on Computational Social Systems, vol. 8, no. 4, pp. 881-893, Aug. 2021, doi: 10.1109/TCSS.2021.3068519.</a>\n",
    "\n",
    "\n",
    "[1. Preliminary Data Description](#data_description)\n",
    "\n",
    "[2. Prepare Input](#prepare_input)\n",
    "- [2.1 Tokenization](#tokenization)\n",
    "- [2.2 Pad sequences to fixed lenght](#sequences)\n",
    "\n",
    "[3. Train and Evaluate](#train_evaluate)\n",
    "- [3.1 Define the Model](#define_model)\n",
    "- [3.2 Train the Model](#train_model)\n",
    "- [3.3 Evaluate the Model](#evaluate_model)\n",
    "    \n",
    "[4. Conclusion](#conclusion) \n",
    "    "
   ]
  },
  {
   "cell_type": "code",
   "execution_count": 2,
   "id": "f92eb9f1",
   "metadata": {
    "_kg_hide-input": false,
    "execution": {
     "iopub.execute_input": "2023-01-15T03:06:16.467863Z",
     "iopub.status.busy": "2023-01-15T03:06:16.467102Z",
     "iopub.status.idle": "2023-01-15T03:06:22.385534Z",
     "shell.execute_reply": "2023-01-15T03:06:22.384546Z"
    },
    "papermill": {
     "duration": 5.928813,
     "end_time": "2023-01-15T03:06:22.387892",
     "exception": false,
     "start_time": "2023-01-15T03:06:16.459079",
     "status": "completed"
    },
    "tags": []
   },
   "outputs": [],
   "source": [
    "import pandas as pd\n",
    "import numpy as np\n",
    "import matplotlib.pyplot as plt\n",
    "import seaborn as sns\n",
    "\n",
    "import tensorflow as tf\n",
    "from tensorflow.python.client import device_lib\n",
    "\n",
    "import keras\n",
    "from keras.preprocessing.text import Tokenizer\n",
    "from keras.preprocessing import sequence\n",
    "from keras.preprocessing.sequence import pad_sequences\n",
    "from keras.models import Model, Sequential\n",
    "from keras.layers import GRU, Input, Dense, Activation, RepeatVector, Bidirectional, LSTM, Dropout, Embedding\n",
    "from keras.losses import sparse_categorical_crossentropy\n",
    "from keras.callbacks import EarlyStopping\n",
    "\n",
    "from sklearn.model_selection import train_test_split\n",
    "from sklearn.metrics import confusion_matrix, classification_report\n",
    "\n",
    "import collections\n",
    "\n",
    "tf.compat.v1.logging.set_verbosity(tf.compat.v1.logging.ERROR)\n",
    "SEED = 42"
   ]
  },
  {
   "cell_type": "code",
   "execution_count": 3,
   "id": "1940b76c",
   "metadata": {
    "_kg_hide-input": false,
    "execution": {
     "iopub.execute_input": "2023-01-15T03:06:22.406225Z",
     "iopub.status.busy": "2023-01-15T03:06:22.405004Z",
     "iopub.status.idle": "2023-01-15T03:06:28.019536Z",
     "shell.execute_reply": "2023-01-15T03:06:28.018434Z"
    },
    "papermill": {
     "duration": 5.625969,
     "end_time": "2023-01-15T03:06:28.022031",
     "exception": false,
     "start_time": "2023-01-15T03:06:22.396062",
     "status": "completed"
    },
    "tags": []
   },
   "outputs": [],
   "source": [
    "df = pd.read_csv('../input/fake-news-classification/WELFake_Dataset.csv')\n",
    "df.dropna(subset = ['text', 'title'], inplace = True)\n",
    "df['text'] = df['title'] + ' ' + df['text']\n",
    "\n",
    "X = df['text']\n",
    "y = df['label']"
   ]
  },
  {
   "cell_type": "markdown",
   "id": "2315db03",
   "metadata": {
    "papermill": {
     "duration": 0.007784,
     "end_time": "2023-01-15T03:06:28.038019",
     "exception": false,
     "start_time": "2023-01-15T03:06:28.030235",
     "status": "completed"
    },
    "tags": []
   },
   "source": [
    "<a id = 'data_description'></a>\n",
    "## 1. Data Description"
   ]
  },
  {
   "cell_type": "code",
   "execution_count": 4,
   "id": "9c761e95",
   "metadata": {
    "execution": {
     "iopub.execute_input": "2023-01-15T03:06:28.055750Z",
     "iopub.status.busy": "2023-01-15T03:06:28.055409Z",
     "iopub.status.idle": "2023-01-15T03:06:28.068072Z",
     "shell.execute_reply": "2023-01-15T03:06:28.067190Z"
    },
    "papermill": {
     "duration": 0.023309,
     "end_time": "2023-01-15T03:06:28.070352",
     "exception": false,
     "start_time": "2023-01-15T03:06:28.047043",
     "status": "completed"
    },
    "tags": []
   },
   "outputs": [
    {
     "data": {
      "text/plain": [
       "1    36509\n",
       "0    35028\n",
       "Name: label, dtype: int64"
      ]
     },
     "execution_count": 4,
     "metadata": {},
     "output_type": "execute_result"
    }
   ],
   "source": [
    "df['label'].value_counts()"
   ]
  },
  {
   "cell_type": "code",
   "execution_count": 5,
   "id": "8c7d06a1",
   "metadata": {
    "execution": {
     "iopub.execute_input": "2023-01-15T03:06:28.086654Z",
     "iopub.status.busy": "2023-01-15T03:06:28.086381Z",
     "iopub.status.idle": "2023-01-15T03:06:28.094568Z",
     "shell.execute_reply": "2023-01-15T03:06:28.093549Z"
    },
    "papermill": {
     "duration": 0.018754,
     "end_time": "2023-01-15T03:06:28.096637",
     "exception": false,
     "start_time": "2023-01-15T03:06:28.077883",
     "status": "completed"
    },
    "tags": []
   },
   "outputs": [
    {
     "data": {
      "text/plain": [
       "1    0.510351\n",
       "0    0.489649\n",
       "Name: label, dtype: float64"
      ]
     },
     "execution_count": 5,
     "metadata": {},
     "output_type": "execute_result"
    }
   ],
   "source": [
    "df['label'].value_counts(normalize=True)"
   ]
  },
  {
   "cell_type": "markdown",
   "id": "a7503f30",
   "metadata": {
    "papermill": {
     "duration": 0.007498,
     "end_time": "2023-01-15T03:06:28.112250",
     "exception": false,
     "start_time": "2023-01-15T03:06:28.104752",
     "status": "completed"
    },
    "tags": []
   },
   "source": [
    "Let's see if fake news and real news are different in the length of the news article."
   ]
  },
  {
   "cell_type": "code",
   "execution_count": 6,
   "id": "162c94c4",
   "metadata": {
    "execution": {
     "iopub.execute_input": "2023-01-15T03:06:28.129093Z",
     "iopub.status.busy": "2023-01-15T03:06:28.128427Z",
     "iopub.status.idle": "2023-01-15T03:06:31.475067Z",
     "shell.execute_reply": "2023-01-15T03:06:31.474086Z"
    },
    "papermill": {
     "duration": 3.357,
     "end_time": "2023-01-15T03:06:31.477121",
     "exception": false,
     "start_time": "2023-01-15T03:06:28.120121",
     "status": "completed"
    },
    "tags": []
   },
   "outputs": [
    {
     "data": {
      "text/plain": [
       "Text(0.5, 1.0, 'Distribution of the News Words count')"
      ]
     },
     "execution_count": 6,
     "metadata": {},
     "output_type": "execute_result"
    },
    {
     "data": {
      "image/png": "[encoded data removed]",
      "text/plain": [
       "<Figure size 1296x360 with 1 Axes>"
      ]
     },
     "metadata": {
      "needs_background": "light"
     },
     "output_type": "display_data"
    }
   ],
   "source": [
    "df['num_words'] = df['text'].apply(lambda x: len(x.split()))\n",
    "plt.figure(figsize = (18,5))\n",
    "sns.histplot(df['num_words'], palette = 'Set1', alpha = 0.8,log_scale=True)\n",
    "plt.title('Distribution of the News Words count')"
   ]
  },
  {
   "cell_type": "code",
   "execution_count": 7,
   "id": "8926d3e6",
   "metadata": {
    "execution": {
     "iopub.execute_input": "2023-01-15T03:06:31.495014Z",
     "iopub.status.busy": "2023-01-15T03:06:31.494222Z",
     "iopub.status.idle": "2023-01-15T03:06:35.063970Z",
     "shell.execute_reply": "2023-01-15T03:06:35.063052Z"
    },
    "papermill": {
     "duration": 3.58051,
     "end_time": "2023-01-15T03:06:35.065989",
     "exception": false,
     "start_time": "2023-01-15T03:06:31.485479",
     "status": "completed"
    },
    "tags": []
   },
   "outputs": [
    {
     "data": {
      "text/plain": [
       "Text(0.5, 1.0, 'Distribution of the News Words count')"
      ]
     },
     "execution_count": 7,
     "metadata": {},
     "output_type": "execute_result"
    },
    {
     "data": {
      "image/png": "[encoded data removed]",
      "text/plain": [
       "<Figure size 1296x360 with 1 Axes>"
      ]
     },
     "metadata": {
      "needs_background": "light"
     },
     "output_type": "display_data"
    }
   ],
   "source": [
    "df['num_words'] = df['text'].apply(lambda x: len(x.split()))\n",
    "plt.figure(figsize = (18,5))\n",
    "sns.histplot(data=df,x='num_words',hue='label',alpha = 0.8, log_scale=True)\n",
    "plt.title('Distribution of the News Words count')"
   ]
  },
  {
   "cell_type": "markdown",
   "id": "f623f477",
   "metadata": {
    "papermill": {
     "duration": 0.008113,
     "end_time": "2023-01-15T03:06:35.082400",
     "exception": false,
     "start_time": "2023-01-15T03:06:35.074287",
     "status": "completed"
    },
    "tags": []
   },
   "source": [
    "The fake news are not very different from real news in their word counts. \n",
    "\n",
    "Let's explore if they use different words."
   ]
  },
  {
   "cell_type": "code",
   "execution_count": 8,
   "id": "fb10145a",
   "metadata": {
    "_kg_hide-input": true,
    "execution": {
     "iopub.execute_input": "2023-01-15T03:06:35.101380Z",
     "iopub.status.busy": "2023-01-15T03:06:35.099969Z",
     "iopub.status.idle": "2023-01-15T03:06:46.877902Z",
     "shell.execute_reply": "2023-01-15T03:06:46.876955Z"
    },
    "papermill": {
     "duration": 11.789971,
     "end_time": "2023-01-15T03:06:46.880375",
     "exception": false,
     "start_time": "2023-01-15T03:06:35.090404",
     "status": "completed"
    },
    "tags": []
   },
   "outputs": [
    {
     "data": {
      "text/plain": [
       "<AxesSubplot:xlabel='word', ylabel='count'>"
      ]
     },
     "execution_count": 8,
     "metadata": {},
     "output_type": "execute_result"
    },
    {
     "data": {
      "image/png": "[encoded data removed]",
      "text/plain": [
       "<Figure size 1296x360 with 2 Axes>"
      ]
     },
     "metadata": {
      "needs_background": "light"
     },
     "output_type": "display_data"
    }
   ],
   "source": [
    "#get word collections for real/fake news\n",
    "fake_news_words = collections.Counter([word for sentence in df[df['label'] == 0]['text'] for word in sentence.split()])\n",
    "real_news_words = collections.Counter([word for sentence in df[df['label'] == 1]['text'] for word in sentence.split()])\n",
    "df_mc_fake = pd.DataFrame(columns = ['word','count'], data=(fake_news_words.most_common(25)))\n",
    "df_mc_real = pd.DataFrame(columns = ['word','count'], data=(fake_news_words.most_common(25)))\n",
    "\n",
    "fig, axes = plt.subplots(1,2,figsize = (18, 5))\n",
    "sns.barplot(data = df_mc_fake, x= 'word', y = 'count', color = '#dd0000', alpha = 0.8, ax = axes[0])\n",
    "#axes[0].tickparams(axis = 'x', rotation = 90)\n",
    "sns.barplot(data = df_mc_real, x= 'word', y = 'count', color = '#0000dd', alpha = 0.8, ax = axes[1])"
   ]
  },
  {
   "cell_type": "markdown",
   "id": "70785516",
   "metadata": {
    "papermill": {
     "duration": 0.008722,
     "end_time": "2023-01-15T03:06:46.898268",
     "exception": false,
     "start_time": "2023-01-15T03:06:46.889546",
     "status": "completed"
    },
    "tags": []
   },
   "source": [
    "The fake and real news do not seem to use different words, at least not captured in the most common 25 words.\n",
    "\n",
    "Now we will use neural networks to detect the difference between the fake and real news. "
   ]
  },
  {
   "cell_type": "markdown",
   "id": "fadfabad",
   "metadata": {
    "papermill": {
     "duration": 0.008528,
     "end_time": "2023-01-15T03:06:46.915888",
     "exception": false,
     "start_time": "2023-01-15T03:06:46.907360",
     "status": "completed"
    },
    "tags": []
   },
   "source": [
    "<a id = 'prepare_input'></a>\n",
    "## 2. Preparing the input"
   ]
  },
  {
   "cell_type": "code",
   "execution_count": 9,
   "id": "80e54d46",
   "metadata": {
    "execution": {
     "iopub.execute_input": "2023-01-15T03:06:46.934752Z",
     "iopub.status.busy": "2023-01-15T03:06:46.934442Z",
     "iopub.status.idle": "2023-01-15T03:06:46.966193Z",
     "shell.execute_reply": "2023-01-15T03:06:46.965278Z"
    },
    "papermill": {
     "duration": 0.043612,
     "end_time": "2023-01-15T03:06:46.968338",
     "exception": false,
     "start_time": "2023-01-15T03:06:46.924726",
     "status": "completed"
    },
    "tags": []
   },
   "outputs": [],
   "source": [
    "#split the dataset into training and test sets\n",
    "X_train, X_test, y_train, y_test = train_test_split(X, y, stratify = y, random_state = SEED)"
   ]
  },
  {
   "cell_type": "markdown",
   "id": "81b416ca",
   "metadata": {
    "papermill": {
     "duration": 0.008651,
     "end_time": "2023-01-15T03:06:46.985843",
     "exception": false,
     "start_time": "2023-01-15T03:06:46.977192",
     "status": "completed"
    },
    "tags": []
   },
   "source": [
    "<a id = 'tokenization'></a>\n",
    "## 2.1 Tokenization "
   ]
  },
  {
   "cell_type": "code",
   "execution_count": 10,
   "id": "573b0cc8",
   "metadata": {
    "execution": {
     "iopub.execute_input": "2023-01-15T03:06:47.005217Z",
     "iopub.status.busy": "2023-01-15T03:06:47.004361Z",
     "iopub.status.idle": "2023-01-15T03:07:53.590460Z",
     "shell.execute_reply": "2023-01-15T03:07:53.589439Z"
    },
    "papermill": {
     "duration": 66.606858,
     "end_time": "2023-01-15T03:07:53.601538",
     "exception": false,
     "start_time": "2023-01-15T03:06:46.994680",
     "status": "completed"
    },
    "tags": []
   },
   "outputs": [
    {
     "name": "stdout",
     "output_type": "stream",
     "text": [
      "Train vocabulary size: 286000\n"
     ]
    }
   ],
   "source": [
    "#define Keras Tokenizer\n",
    "tok = Tokenizer()\n",
    "tok.fit_on_texts(X_train)\n",
    "\n",
    "#return sequences\n",
    "sequences = tok.texts_to_sequences(X_train)\n",
    "test_sequences = tok.texts_to_sequences(X_test)\n",
    "\n",
    "#print size of the vocabulary\n",
    "print(f'Train vocabulary size: {len(tok.word_index)}')"
   ]
  },
  {
   "cell_type": "markdown",
   "id": "839f7f48",
   "metadata": {
    "papermill": {
     "duration": 0.008357,
     "end_time": "2023-01-15T03:07:53.618313",
     "exception": false,
     "start_time": "2023-01-15T03:07:53.609956",
     "status": "completed"
    },
    "tags": []
   },
   "source": [
    "<a id = 'sequences'></a>\n",
    "## 2.2 Pad sequences to fixed lenght"
   ]
  },
  {
   "cell_type": "code",
   "execution_count": 11,
   "id": "a070c938",
   "metadata": {
    "execution": {
     "iopub.execute_input": "2023-01-15T03:07:53.636700Z",
     "iopub.status.busy": "2023-01-15T03:07:53.636103Z",
     "iopub.status.idle": "2023-01-15T03:07:54.950116Z",
     "shell.execute_reply": "2023-01-15T03:07:54.949125Z"
    },
    "papermill": {
     "duration": 1.325925,
     "end_time": "2023-01-15T03:07:54.952722",
     "exception": false,
     "start_time": "2023-01-15T03:07:53.626797",
     "status": "completed"
    },
    "tags": []
   },
   "outputs": [],
   "source": [
    "#maximum sequence length (512 to prevent memory issues and speed up computation)\n",
    "MAX_LEN = 512\n",
    "\n",
    "#padded sequences\n",
    "X_train_seq = sequence.pad_sequences(sequences,maxlen=MAX_LEN)\n",
    "X_test_seq = sequence.pad_sequences(test_sequences,maxlen=MAX_LEN)"
   ]
  },
  {
   "cell_type": "code",
   "execution_count": 12,
   "id": "81557413",
   "metadata": {
    "execution": {
     "iopub.execute_input": "2023-01-15T03:07:54.971521Z",
     "iopub.status.busy": "2023-01-15T03:07:54.971217Z",
     "iopub.status.idle": "2023-01-15T03:07:54.978253Z",
     "shell.execute_reply": "2023-01-15T03:07:54.977202Z"
    },
    "papermill": {
     "duration": 0.018844,
     "end_time": "2023-01-15T03:07:54.980532",
     "exception": false,
     "start_time": "2023-01-15T03:07:54.961688",
     "status": "completed"
    },
    "tags": []
   },
   "outputs": [
    {
     "data": {
      "text/plain": [
       "512"
      ]
     },
     "execution_count": 12,
     "metadata": {},
     "output_type": "execute_result"
    }
   ],
   "source": [
    "X_train_seq.shape[1]"
   ]
  },
  {
   "cell_type": "markdown",
   "id": "2d24b0c1",
   "metadata": {
    "papermill": {
     "duration": 0.008339,
     "end_time": "2023-01-15T03:07:54.997712",
     "exception": false,
     "start_time": "2023-01-15T03:07:54.989373",
     "status": "completed"
    },
    "tags": []
   },
   "source": [
    "<a id = 'train_evaluate'></a>\n",
    "## 3. Train and evaluate two Keras models: CNN and LSTM"
   ]
  },
  {
   "cell_type": "markdown",
   "id": "27157831",
   "metadata": {
    "papermill": {
     "duration": 0.008258,
     "end_time": "2023-01-15T03:07:55.014764",
     "exception": false,
     "start_time": "2023-01-15T03:07:55.006506",
     "status": "completed"
    },
    "tags": []
   },
   "source": [
    "<a id = 'define_model1'></a>\n",
    "## 3.1 Convolutional Neural Network (CNN) Model"
   ]
  },
  {
   "cell_type": "markdown",
   "id": "4ed06258",
   "metadata": {
    "papermill": {
     "duration": 0.008223,
     "end_time": "2023-01-15T03:07:55.031639",
     "exception": false,
     "start_time": "2023-01-15T03:07:55.023416",
     "status": "completed"
    },
    "tags": []
   },
   "source": [
    "<a id = 'define_model1'></a>\n",
    "## 3.1.1 Define CNN Model"
   ]
  },
  {
   "cell_type": "code",
   "execution_count": 13,
   "id": "8536995d",
   "metadata": {
    "execution": {
     "iopub.execute_input": "2023-01-15T03:07:55.050268Z",
     "iopub.status.busy": "2023-01-15T03:07:55.049491Z",
     "iopub.status.idle": "2023-01-15T03:07:58.041779Z",
     "shell.execute_reply": "2023-01-15T03:07:58.040839Z"
    },
    "papermill": {
     "duration": 3.00561,
     "end_time": "2023-01-15T03:07:58.045878",
     "exception": false,
     "start_time": "2023-01-15T03:07:55.040268",
     "status": "completed"
    },
    "tags": []
   },
   "outputs": [
    {
     "name": "stderr",
     "output_type": "stream",
     "text": [
      "2023-01-15 03:07:55.434765: I tensorflow/stream_executor/cuda/cuda_gpu_executor.cc:937] successful NUMA node read from SysFS had negative value (-1), but there must be at least one NUMA node, so returning NUMA node zero\n",
      "2023-01-15 03:07:55.530611: I tensorflow/stream_executor/cuda/cuda_gpu_executor.cc:937] successful NUMA node read from SysFS had negative value (-1), but there must be at least one NUMA node, so returning NUMA node zero\n",
      "2023-01-15 03:07:55.531429: I tensorflow/stream_executor/cuda/cuda_gpu_executor.cc:937] successful NUMA node read from SysFS had negative value (-1), but there must be at least one NUMA node, so returning NUMA node zero\n"
     ]
    },
    {
     "name": "stdout",
     "output_type": "stream",
     "text": [
      "Model: \"sequential\"\n",
      "_________________________________________________________________\n",
      "Layer (type)                 Output Shape              Param #   \n",
      "=================================================================\n",
      "embedding (Embedding)        (None, 512, 128)          36608000  \n",
      "_________________________________________________________________\n",
      "conv1d (Conv1D)              (None, 506, 128)          114816    \n",
      "_________________________________________________________________\n",
      "conv1d_1 (Conv1D)            (None, 500, 64)           57408     \n",
      "_________________________________________________________________\n",
      "dense (Dense)                (None, 500, 64)           4160      \n",
      "_________________________________________________________________\n",
      "dropout (Dropout)            (None, 500, 64)           0         \n",
      "_________________________________________________________________\n",
      "dense_1 (Dense)              (None, 500, 1)            65        \n",
      "=================================================================\n",
      "Total params: 36,784,449\n",
      "Trainable params: 36,784,449\n",
      "Non-trainable params: 0\n",
      "_________________________________________________________________\n"
     ]
    },
    {
     "name": "stderr",
     "output_type": "stream",
     "text": [
      "2023-01-15 03:07:55.533840: I tensorflow/core/platform/cpu_feature_guard.cc:142] This TensorFlow binary is optimized with oneAPI Deep Neural Network Library (oneDNN) to use the following CPU instructions in performance-critical operations:  AVX2 AVX512F FMA\n",
      "To enable them in other operations, rebuild TensorFlow with the appropriate compiler flags.\n",
      "2023-01-15 03:07:55.534259: I tensorflow/stream_executor/cuda/cuda_gpu_executor.cc:937] successful NUMA node read from SysFS had negative value (-1), but there must be at least one NUMA node, so returning NUMA node zero\n",
      "2023-01-15 03:07:55.535395: I tensorflow/stream_executor/cuda/cuda_gpu_executor.cc:937] successful NUMA node read from SysFS had negative value (-1), but there must be at least one NUMA node, so returning NUMA node zero\n",
      "2023-01-15 03:07:55.536453: I tensorflow/stream_executor/cuda/cuda_gpu_executor.cc:937] successful NUMA node read from SysFS had negative value (-1), but there must be at least one NUMA node, so returning NUMA node zero\n",
      "2023-01-15 03:07:57.564619: I tensorflow/stream_executor/cuda/cuda_gpu_executor.cc:937] successful NUMA node read from SysFS had negative value (-1), but there must be at least one NUMA node, so returning NUMA node zero\n",
      "2023-01-15 03:07:57.565654: I tensorflow/stream_executor/cuda/cuda_gpu_executor.cc:937] successful NUMA node read from SysFS had negative value (-1), but there must be at least one NUMA node, so returning NUMA node zero\n",
      "2023-01-15 03:07:57.566439: I tensorflow/stream_executor/cuda/cuda_gpu_executor.cc:937] successful NUMA node read from SysFS had negative value (-1), but there must be at least one NUMA node, so returning NUMA node zero\n",
      "2023-01-15 03:07:57.567073: I tensorflow/core/common_runtime/gpu/gpu_device.cc:1510] Created device /job:localhost/replica:0/task:0/device:GPU:0 with 15403 MB memory:  -> device: 0, name: Tesla P100-PCIE-16GB, pci bus id: 0000:00:04.0, compute capability: 6.0\n"
     ]
    }
   ],
   "source": [
    "#define the model\n",
    "model_cnn = tf.keras.Sequential([\n",
    "    Input(name='inputs',shape=[MAX_LEN]),\n",
    "    Embedding(len(tok.word_index), 128),\n",
    "    tf.keras.layers.Conv1D(128,7,strides = 1),\n",
    "    tf.keras.layers.Conv1D(64,7,strides = 1),\n",
    "    Dense(64, activation='relu'),\n",
    "    Dropout(0.5),\n",
    "    Dense(1, activation='sigmoid')\n",
    "])\n",
    "\n",
    "#compile model\n",
    "model_cnn.compile(loss=tf.keras.losses.BinaryCrossentropy(),\n",
    "              optimizer=tf.keras.optimizers.Adam(1e-4),\n",
    "              metrics=['accuracy'])\n",
    "\n",
    "#model summary\n",
    "model_cnn.summary()"
   ]
  },
  {
   "cell_type": "markdown",
   "id": "552c10ea",
   "metadata": {
    "papermill": {
     "duration": 0.008813,
     "end_time": "2023-01-15T03:07:58.063667",
     "exception": false,
     "start_time": "2023-01-15T03:07:58.054854",
     "status": "completed"
    },
    "tags": []
   },
   "source": [
    "<a id = 'define_model1'></a>\n",
    "## 3.1.2 Train CNN Model"
   ]
  },
  {
   "cell_type": "code",
   "execution_count": 14,
   "id": "01615f17",
   "metadata": {
    "execution": {
     "iopub.execute_input": "2023-01-15T03:07:58.083501Z",
     "iopub.status.busy": "2023-01-15T03:07:58.082702Z",
     "iopub.status.idle": "2023-01-15T03:13:21.565542Z",
     "shell.execute_reply": "2023-01-15T03:13:21.564300Z"
    },
    "papermill": {
     "duration": 323.495946,
     "end_time": "2023-01-15T03:13:21.568449",
     "exception": false,
     "start_time": "2023-01-15T03:07:58.072503",
     "status": "completed"
    },
    "tags": []
   },
   "outputs": [
    {
     "name": "stderr",
     "output_type": "stream",
     "text": [
      "2023-01-15 03:07:58.267199: I tensorflow/compiler/mlir/mlir_graph_optimization_pass.cc:185] None of the MLIR Optimization Passes are enabled (registered 2)\n"
     ]
    },
    {
     "name": "stdout",
     "output_type": "stream",
     "text": [
      "Epoch 1/5\n"
     ]
    },
    {
     "name": "stderr",
     "output_type": "stream",
     "text": [
      "2023-01-15 03:08:00.400660: I tensorflow/stream_executor/cuda/cuda_dnn.cc:369] Loaded cuDNN version 8005\n"
     ]
    },
    {
     "name": "stdout",
     "output_type": "stream",
     "text": [
      "4293/4293 [==============================] - 69s 14ms/step - loss: 0.5568 - accuracy: 0.6917 - val_loss: 0.5299 - val_accuracy: 0.7102\n",
      "Epoch 2/5\n",
      "4293/4293 [==============================] - 61s 14ms/step - loss: 0.5172 - accuracy: 0.7188 - val_loss: 0.5264 - val_accuracy: 0.7123\n",
      "Epoch 3/5\n",
      "4293/4293 [==============================] - 61s 14ms/step - loss: 0.5029 - accuracy: 0.7259 - val_loss: 0.5259 - val_accuracy: 0.7124\n",
      "Epoch 4/5\n",
      "4293/4293 [==============================] - 60s 14ms/step - loss: 0.4943 - accuracy: 0.7301 - val_loss: 0.5255 - val_accuracy: 0.7142\n",
      "Epoch 5/5\n",
      "4293/4293 [==============================] - 61s 14ms/step - loss: 0.4873 - accuracy: 0.7332 - val_loss: 0.5299 - val_accuracy: 0.7147\n"
     ]
    }
   ],
   "source": [
    "history_cnn = model_cnn.fit(X_train_seq, y_train, epochs=5,\n",
    "                    validation_split = 0.2, batch_size = 10, callbacks=[EarlyStopping(monitor='val_accuracy',mode='max', patience=3, verbose=False,restore_best_weights=True)])"
   ]
  },
  {
   "cell_type": "code",
   "execution_count": 15,
   "id": "74769d9a",
   "metadata": {
    "execution": {
     "iopub.execute_input": "2023-01-15T03:13:22.143903Z",
     "iopub.status.busy": "2023-01-15T03:13:22.142858Z",
     "iopub.status.idle": "2023-01-15T03:13:22.394604Z",
     "shell.execute_reply": "2023-01-15T03:13:22.393719Z"
    },
    "papermill": {
     "duration": 0.534045,
     "end_time": "2023-01-15T03:13:22.396674",
     "exception": false,
     "start_time": "2023-01-15T03:13:21.862629",
     "status": "completed"
    },
    "tags": []
   },
   "outputs": [
    {
     "data": {
      "image/png": "[encoded data removed]",
      "text/plain": [
       "<Figure size 576x360 with 1 Axes>"
      ]
     },
     "metadata": {
      "needs_background": "light"
     },
     "output_type": "display_data"
    }
   ],
   "source": [
    "pd.DataFrame(history_cnn.history).plot(figsize=(8, 5))\n",
    "plt.grid(True)\n",
    "plt.gca().set_ylim(0, 1) # set the vertical range to [0-1]\n",
    "plt.title('Learning Curves')\n",
    "plt.show()"
   ]
  },
  {
   "cell_type": "markdown",
   "id": "3900f43a",
   "metadata": {
    "papermill": {
     "duration": 0.332648,
     "end_time": "2023-01-15T03:13:23.013094",
     "exception": false,
     "start_time": "2023-01-15T03:13:22.680446",
     "status": "completed"
    },
    "tags": []
   },
   "source": [
    "<a id = 'evaluate_model1'></a>\n",
    "## 3.1.3 Evaluate the CNN model"
   ]
  },
  {
   "cell_type": "code",
   "execution_count": 16,
   "id": "6958b530",
   "metadata": {
    "execution": {
     "iopub.execute_input": "2023-01-15T03:13:23.584715Z",
     "iopub.status.busy": "2023-01-15T03:13:23.584362Z",
     "iopub.status.idle": "2023-01-15T03:13:25.673077Z",
     "shell.execute_reply": "2023-01-15T03:13:25.671817Z"
    },
    "papermill": {
     "duration": 2.376744,
     "end_time": "2023-01-15T03:13:25.675950",
     "exception": false,
     "start_time": "2023-01-15T03:13:23.299206",
     "status": "completed"
    },
    "tags": []
   },
   "outputs": [
    {
     "name": "stdout",
     "output_type": "stream",
     "text": [
      "559/559 [==============================] - 2s 4ms/step - loss: 0.5317 - accuracy: 0.7104\n",
      "Test Loss: 0.5317467451095581\n",
      "Test Accuracy: 0.7103909254074097\n"
     ]
    }
   ],
   "source": [
    "test_loss, test_acc = model_cnn.evaluate(X_test_seq, y_test)\n",
    "\n",
    "print('Test Loss:', test_loss)\n",
    "print('Test Accuracy:', test_acc)"
   ]
  },
  {
   "cell_type": "markdown",
   "id": "b3b39907",
   "metadata": {
    "papermill": {
     "duration": 0.322297,
     "end_time": "2023-01-15T03:13:26.279927",
     "exception": false,
     "start_time": "2023-01-15T03:13:25.957630",
     "status": "completed"
    },
    "tags": []
   },
   "source": [
    "<a id = 'model2'></a>\n",
    "## 3.2 LSTM Model"
   ]
  },
  {
   "cell_type": "markdown",
   "id": "24720097",
   "metadata": {
    "papermill": {
     "duration": 0.279714,
     "end_time": "2023-01-15T03:13:26.839044",
     "exception": false,
     "start_time": "2023-01-15T03:13:26.559330",
     "status": "completed"
    },
    "tags": []
   },
   "source": [
    "<a id = 'define_model2'></a>\n",
    "## 3.2.1 Define LSTM Model"
   ]
  },
  {
   "cell_type": "code",
   "execution_count": 17,
   "id": "4f639250",
   "metadata": {
    "execution": {
     "iopub.execute_input": "2023-01-15T03:13:27.417428Z",
     "iopub.status.busy": "2023-01-15T03:13:27.417038Z",
     "iopub.status.idle": "2023-01-15T03:13:29.014760Z",
     "shell.execute_reply": "2023-01-15T03:13:29.013707Z"
    },
    "papermill": {
     "duration": 1.891613,
     "end_time": "2023-01-15T03:13:29.016948",
     "exception": false,
     "start_time": "2023-01-15T03:13:27.125335",
     "status": "completed"
    },
    "tags": []
   },
   "outputs": [
    {
     "name": "stdout",
     "output_type": "stream",
     "text": [
      "Model: \"sequential_1\"\n",
      "_________________________________________________________________\n",
      "Layer (type)                 Output Shape              Param #   \n",
      "=================================================================\n",
      "embedding_1 (Embedding)      (None, 512, 128)          36608000  \n",
      "_________________________________________________________________\n",
      "bidirectional (Bidirectional (None, 512, 256)          263168    \n",
      "_________________________________________________________________\n",
      "bidirectional_1 (Bidirection (None, 128)               164352    \n",
      "_________________________________________________________________\n",
      "dense_2 (Dense)              (None, 64)                8256      \n",
      "_________________________________________________________________\n",
      "dropout_1 (Dropout)          (None, 64)                0         \n",
      "_________________________________________________________________\n",
      "dense_3 (Dense)              (None, 1)                 65        \n",
      "=================================================================\n",
      "Total params: 37,043,841\n",
      "Trainable params: 37,043,841\n",
      "Non-trainable params: 0\n",
      "_________________________________________________________________\n"
     ]
    }
   ],
   "source": [
    "#define the model\n",
    "model_lstm = tf.keras.Sequential([\n",
    "    Input(name='inputs',shape=[MAX_LEN]),\n",
    "    Embedding(len(tok.word_index), 128),\n",
    "    Bidirectional(tf.keras.layers.LSTM(128,  return_sequences=True)),\n",
    "    Bidirectional(tf.keras.layers.LSTM(64)),\n",
    "    Dense(64, activation='relu'),\n",
    "    Dropout(0.5),\n",
    "    Dense(1, activation='sigmoid')\n",
    "])\n",
    "\n",
    "#compile model\n",
    "model_lstm.compile(loss=tf.keras.losses.BinaryCrossentropy(),\n",
    "              optimizer=tf.keras.optimizers.Adam(1e-4),\n",
    "              metrics=['accuracy'])\n",
    "\n",
    "#model summary\n",
    "model_lstm.summary()"
   ]
  },
  {
   "cell_type": "code",
   "execution_count": 18,
   "id": "dcb4e694",
   "metadata": {
    "execution": {
     "iopub.execute_input": "2023-01-15T03:13:29.628249Z",
     "iopub.status.busy": "2023-01-15T03:13:29.627869Z",
     "iopub.status.idle": "2023-01-15T03:13:30.627379Z",
     "shell.execute_reply": "2023-01-15T03:13:30.626113Z"
    },
    "papermill": {
     "duration": 1.286388,
     "end_time": "2023-01-15T03:13:30.629588",
     "exception": false,
     "start_time": "2023-01-15T03:13:29.343200",
     "status": "completed"
    },
    "tags": []
   },
   "outputs": [
    {
     "data": {
      "image/png": "[encoded data removed]",
      "text/plain": [
       "<IPython.core.display.Image object>"
      ]
     },
     "execution_count": 18,
     "metadata": {},
     "output_type": "execute_result"
    }
   ],
   "source": [
    "#plot the model architecture\n",
    "tf.keras.utils.plot_model(model_lstm)"
   ]
  },
  {
   "cell_type": "markdown",
   "id": "c33ccf54",
   "metadata": {
    "papermill": {
     "duration": 0.281316,
     "end_time": "2023-01-15T03:13:31.197774",
     "exception": false,
     "start_time": "2023-01-15T03:13:30.916458",
     "status": "completed"
    },
    "tags": []
   },
   "source": [
    "<a id = 'train_model2'></a>\n",
    "## 3.2.2 Training the LSTM model"
   ]
  },
  {
   "cell_type": "markdown",
   "id": "e881f30f",
   "metadata": {
    "papermill": {
     "duration": 0.328443,
     "end_time": "2023-01-15T03:13:31.810170",
     "exception": false,
     "start_time": "2023-01-15T03:13:31.481727",
     "status": "completed"
    },
    "tags": []
   },
   "source": [
    "We will use a validation split of 20% during the training.\n",
    "\n",
    "Early stopping based on max validation set accuracy.\n"
   ]
  },
  {
   "cell_type": "code",
   "execution_count": 19,
   "id": "d1f526b0",
   "metadata": {
    "execution": {
     "iopub.execute_input": "2023-01-15T03:13:32.378279Z",
     "iopub.status.busy": "2023-01-15T03:13:32.377869Z",
     "iopub.status.idle": "2023-01-15T03:22:19.113828Z",
     "shell.execute_reply": "2023-01-15T03:22:19.112812Z"
    },
    "papermill": {
     "duration": 527.429412,
     "end_time": "2023-01-15T03:22:19.518985",
     "exception": false,
     "start_time": "2023-01-15T03:13:32.089573",
     "status": "completed"
    },
    "tags": []
   },
   "outputs": [
    {
     "name": "stdout",
     "output_type": "stream",
     "text": [
      "Epoch 1/10\n",
      "671/671 [==============================] - 93s 131ms/step - loss: 0.3433 - accuracy: 0.8462 - val_loss: 0.1682 - val_accuracy: 0.9329\n",
      "Epoch 2/10\n",
      "671/671 [==============================] - 87s 130ms/step - loss: 0.1166 - accuracy: 0.9596 - val_loss: 0.1175 - val_accuracy: 0.9557\n",
      "Epoch 3/10\n",
      "671/671 [==============================] - 86s 128ms/step - loss: 0.0502 - accuracy: 0.9856 - val_loss: 0.0919 - val_accuracy: 0.9709\n",
      "Epoch 4/10\n",
      "671/671 [==============================] - 86s 128ms/step - loss: 0.0205 - accuracy: 0.9949 - val_loss: 0.1277 - val_accuracy: 0.9630\n",
      "Epoch 5/10\n",
      "671/671 [==============================] - 87s 130ms/step - loss: 0.0112 - accuracy: 0.9973 - val_loss: 0.1338 - val_accuracy: 0.9656\n",
      "Epoch 6/10\n",
      "671/671 [==============================] - 87s 130ms/step - loss: 0.0089 - accuracy: 0.9980 - val_loss: 0.3062 - val_accuracy: 0.9278\n"
     ]
    }
   ],
   "source": [
    "history_lstm = model_lstm.fit(X_train_seq, y_train, epochs=10,\n",
    "                    validation_split = 0.2, batch_size = 64, callbacks=[EarlyStopping(monitor='val_accuracy',mode='max', patience=3, verbose=False,restore_best_weights=True)])"
   ]
  },
  {
   "cell_type": "code",
   "execution_count": 20,
   "id": "92fceb71",
   "metadata": {
    "execution": {
     "iopub.execute_input": "2023-01-15T03:22:20.550349Z",
     "iopub.status.busy": "2023-01-15T03:22:20.549967Z",
     "iopub.status.idle": "2023-01-15T03:22:58.854060Z",
     "shell.execute_reply": "2023-01-15T03:22:58.853094Z"
    },
    "papermill": {
     "duration": 39.304787,
     "end_time": "2023-01-15T03:22:59.358470",
     "exception": false,
     "start_time": "2023-01-15T03:22:20.053683",
     "status": "completed"
    },
    "tags": []
   },
   "outputs": [
    {
     "data": {
      "image/png": "[encoded data removed]",
      "text/plain": [
       "<Figure size 576x360 with 1 Axes>"
      ]
     },
     "metadata": {
      "needs_background": "light"
     },
     "output_type": "display_data"
    }
   ],
   "source": [
    "pd.DataFrame(history_lstm.history).plot(figsize=(8, 5))\n",
    "plt.grid(True)\n",
    "plt.gca().set_ylim(0, 1) # set the vertical range to [0-1]\n",
    "plt.title('Learning Curves')\n",
    "plt.show()"
   ]
  },
  {
   "cell_type": "code",
   "execution_count": 21,
   "id": "8f886a21",
   "metadata": {
    "execution": {
     "iopub.execute_input": "2023-01-15T03:23:00.553872Z",
     "iopub.status.busy": "2023-01-15T03:23:00.553299Z",
     "iopub.status.idle": "2023-01-15T03:23:21.039381Z",
     "shell.execute_reply": "2023-01-15T03:23:21.037948Z"
    },
    "papermill": {
     "duration": 21.14529,
     "end_time": "2023-01-15T03:23:21.041965",
     "exception": false,
     "start_time": "2023-01-15T03:22:59.896675",
     "status": "completed"
    },
    "tags": []
   },
   "outputs": [
    {
     "name": "stdout",
     "output_type": "stream",
     "text": [
      "559/559 [==============================] - 20s 36ms/step - loss: 0.1012 - accuracy: 0.9691\n",
      "Test Loss: 0.10121428966522217\n",
      "Test Accuracy: 0.9690802097320557\n"
     ]
    }
   ],
   "source": [
    "test_loss, test_acc = model_lstm.evaluate(X_test_seq, y_test)\n",
    "\n",
    "print('Test Loss:', test_loss)\n",
    "print('Test Accuracy:', test_acc)"
   ]
  },
  {
   "cell_type": "markdown",
   "id": "a8424c8e",
   "metadata": {
    "papermill": {
     "duration": 0.553107,
     "end_time": "2023-01-15T03:23:22.103542",
     "exception": false,
     "start_time": "2023-01-15T03:23:21.550435",
     "status": "completed"
    },
    "tags": []
   },
   "source": [
    "<a id = 'evaluate_model2'></a>\n",
    "## 3.2.3 Evaluate the LSTM model"
   ]
  },
  {
   "cell_type": "markdown",
   "id": "652fe8ac",
   "metadata": {
    "execution": {
     "iopub.execute_input": "2022-08-24T12:53:15.790214Z",
     "iopub.status.busy": "2022-08-24T12:53:15.789857Z",
     "iopub.status.idle": "2022-08-24T12:53:15.797269Z",
     "shell.execute_reply": "2022-08-24T12:53:15.795904Z",
     "shell.execute_reply.started": "2022-08-24T12:53:15.790182Z"
    },
    "papermill": {
     "duration": 0.550151,
     "end_time": "2023-01-15T03:23:23.417202",
     "exception": false,
     "start_time": "2023-01-15T03:23:22.867051",
     "status": "completed"
    },
    "tags": []
   },
   "source": [
    "<i><font size = 3.5>For final evaluation we use the separate test set</font></i>"
   ]
  },
  {
   "cell_type": "code",
   "execution_count": 22,
   "id": "b25aca35",
   "metadata": {
    "execution": {
     "iopub.execute_input": "2023-01-15T03:23:24.433100Z",
     "iopub.status.busy": "2023-01-15T03:23:24.432048Z",
     "iopub.status.idle": "2023-01-15T03:23:45.499433Z",
     "shell.execute_reply": "2023-01-15T03:23:45.498212Z"
    },
    "papermill": {
     "duration": 21.576325,
     "end_time": "2023-01-15T03:23:45.501930",
     "exception": false,
     "start_time": "2023-01-15T03:23:23.925605",
     "status": "completed"
    },
    "tags": []
   },
   "outputs": [
    {
     "name": "stdout",
     "output_type": "stream",
     "text": [
      "              precision    recall  f1-score   support\n",
      "\n",
      "           0       0.96      0.97      0.97      8757\n",
      "           1       0.97      0.96      0.97      9128\n",
      "\n",
      "    accuracy                           0.97     17885\n",
      "   macro avg       0.97      0.97      0.97     17885\n",
      "weighted avg       0.97      0.97      0.97     17885\n",
      "\n"
     ]
    }
   ],
   "source": [
    "## print classification report\n",
    "y_hat = model_lstm.predict(X_test_seq)\n",
    "print(classification_report(y_test, np.where(y_hat >= 0.5, 1, 0)))"
   ]
  },
  {
   "cell_type": "code",
   "execution_count": 23,
   "id": "bf96c20b",
   "metadata": {
    "execution": {
     "iopub.execute_input": "2023-01-15T03:23:46.571326Z",
     "iopub.status.busy": "2023-01-15T03:23:46.570902Z",
     "iopub.status.idle": "2023-01-15T03:23:46.814950Z",
     "shell.execute_reply": "2023-01-15T03:23:46.814067Z"
    },
    "papermill": {
     "duration": 0.752994,
     "end_time": "2023-01-15T03:23:46.816922",
     "exception": false,
     "start_time": "2023-01-15T03:23:46.063928",
     "status": "completed"
    },
    "tags": []
   },
   "outputs": [
    {
     "data": {
      "text/plain": [
       "Text(33.0, 0.5, 'Real Labels')"
      ]
     },
     "execution_count": 23,
     "metadata": {},
     "output_type": "execute_result"
    },
    {
     "data": {
      "image/png": "[encoded data removed]",
      "text/plain": [
       "<Figure size 432x360 with 2 Axes>"
      ]
     },
     "metadata": {
      "needs_background": "light"
     },
     "output_type": "display_data"
    }
   ],
   "source": [
    "#plot the confusion matrix\n",
    "plt.figure(figsize = (6,5))\n",
    "\n",
    "sns.heatmap(confusion_matrix(y_test, np.where(y_hat >= 0.5, 1, 0)), annot=True, \n",
    "            fmt='', cmap='Blues')\n",
    "\n",
    "plt.xlabel('Predicted Labels')\n",
    "plt.ylabel('Real Labels')"
   ]
  },
  {
   "cell_type": "markdown",
   "id": "8b32c3d3",
   "metadata": {
    "papermill": {
     "duration": 0.541859,
     "end_time": "2023-01-15T03:23:47.867589",
     "exception": false,
     "start_time": "2023-01-15T03:23:47.325730",
     "status": "completed"
    },
    "tags": []
   },
   "source": [
    "<a id = 'conclusion'></a>\n",
    "## Conclusion\n",
    "The sequencial neural networks model estimated using Keras has very high accuracy around 97%."
   ]
  }
 ],
 "metadata": {
  "kernelspec": {
   "display_name": "Python 3 (ipykernel)",
   "language": "python",
   "name": "python3"
  },
  "language_info": {
   "codemirror_mode": {
    "name": "ipython",
    "version": 3
   },
   "file_extension": ".py",
   "mimetype": "text/x-python",
   "name": "python",
   "nbconvert_exporter": "python",
   "pygments_lexer": "ipython3",
   "version": "3.7.4"
  },
  "papermill": {
   "default_parameters": {},
   "duration": 1062.618964,
   "end_time": "2023-01-15T03:23:51.493063",
   "environment_variables": {},
   "exception": null,
   "input_path": "__notebook__.ipynb",
   "output_path": "__notebook__.ipynb",
   "parameters": {},
   "start_time": "2023-01-15T03:06:08.874099",
   "version": "2.3.4"
  }
 },
 "nbformat": 4,
 "nbformat_minor": 5
}
