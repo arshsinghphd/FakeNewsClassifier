{
 "cells": [
  {
   "cell_type": "markdown",
   "id": "838c3582",
   "metadata": {
    "papermill": {
     "duration": 0.006081,
     "end_time": "2023-01-14T23:56:35.167868",
     "exception": false,
     "start_time": "2023-01-14T23:56:35.161787",
     "status": "completed"
    },
    "tags": []
   },
   "source": [
    "#### WELFake Data Set\n",
    "(WELFake) is a dataset of 72,134 news articles with 35,028 real and 37,106 fake news. For this, authors merged four popular news datasets (i.e. Kaggle, McIntire, Reuters, BuzzFeed Political) to prevent over-fitting of classifiers and to provide more text data for better ML training. \n",
    "\n",
    "Dataset contains four columns: Serial number (starting from 0); Title (about the text news heading); Text (about the news content); and Label (0 = fake and 1 = real).\n",
    "\n",
    "Dataset originally compiled by <a href=\"https://ieeexplore.ieee.org/document/9395133\">P. K. Verma, P. Agrawal, I. Amorim and R. Prodan, \"WELFake: Word Embedding Over Linguistic Features for Fake News Detection,\" in IEEE Transactions on Computational Social Systems, vol. 8, no. 4, pp. 881-893, Aug. 2021, doi: 10.1109/TCSS.2021.3068519.</a>\n",
    "\n",
    "\n",
    "[1. Preliminary Data Description](#data_description)\n",
    "\n",
    "[2. Prepare Input](#prepare_input)\n",
    "- [2.1 Tokenization](#tokenization)\n",
    "- [2.2 Pad sequences to fixed lenght](#sequences)\n",
    "\n",
    "[3. Train and Evaluate](#train_evaluate)\n",
    "- [3.1 Define the Model](#define_model)\n",
    "- [3.2 Train the Model](#train_model)\n",
    "- [3.3 Evaluate the Model](#evaluate_model)\n",
    "    \n",
    "[4. Conclusion](#conclusion) \n",
    "    "
   ]
  },
  {
   "cell_type": "code",
   "execution_count": 2,
   "id": "be650d9e",
   "metadata": {
    "_kg_hide-input": false,
    "execution": {
     "iopub.execute_input": "2023-01-14T23:56:35.182693Z",
     "iopub.status.busy": "2023-01-14T23:56:35.181666Z",
     "iopub.status.idle": "2023-01-14T23:56:40.810134Z",
     "shell.execute_reply": "2023-01-14T23:56:40.809188Z"
    },
    "papermill": {
     "duration": 5.638697,
     "end_time": "2023-01-14T23:56:40.812904",
     "exception": false,
     "start_time": "2023-01-14T23:56:35.174207",
     "status": "completed"
    },
    "tags": []
   },
   "outputs": [],
   "source": [
    "import pandas as pd\n",
    "import numpy as np\n",
    "import matplotlib.pyplot as plt\n",
    "import seaborn as sns\n",
    "\n",
    "import tensorflow as tf\n",
    "from tensorflow.python.client import device_lib\n",
    "\n",
    "import keras\n",
    "from keras.preprocessing.text import Tokenizer\n",
    "from keras.preprocessing.sequence import pad_sequences\n",
    "from keras.models import Model, Sequential\n",
    "from keras.layers import GRU, Input, Dense, Activation, RepeatVector, Bidirectional, LSTM, Dropout, Embedding\n",
    "from keras.layers.embeddings import Embedding\n",
    "from keras.losses import sparse_categorical_crossentropy\n",
    "from keras.preprocessing.text import Tokenizer\n",
    "from keras.preprocessing import sequence\n",
    "from keras.callbacks import EarlyStopping\n",
    "\n",
    "from sklearn.model_selection import train_test_split\n",
    "from sklearn.metrics import confusion_matrix, classification_report\n",
    "\n",
    "import collections\n",
    "\n",
    "tf.compat.v1.logging.set_verbosity(tf.compat.v1.logging.ERROR)\n",
    "SEED = 42"
   ]
  },
  {
   "cell_type": "code",
   "execution_count": 3,
   "id": "b33be0cd",
   "metadata": {
    "_kg_hide-input": false,
    "execution": {
     "iopub.execute_input": "2023-01-14T23:56:40.829461Z",
     "iopub.status.busy": "2023-01-14T23:56:40.828946Z",
     "iopub.status.idle": "2023-01-14T23:56:46.788999Z",
     "shell.execute_reply": "2023-01-14T23:56:46.788047Z"
    },
    "papermill": {
     "duration": 5.971829,
     "end_time": "2023-01-14T23:56:46.791560",
     "exception": false,
     "start_time": "2023-01-14T23:56:40.819731",
     "status": "completed"
    },
    "tags": []
   },
   "outputs": [],
   "source": [
    "df = pd.read_csv('WELFake_Dataset.csv')\n",
    "df.dropna(subset = ['text', 'title'], inplace = True)\n",
    "df['text'] = df['title'] + ' ' + df['text']\n",
    "\n",
    "X = df['text']\n",
    "y = df['label']"
   ]
  },
  {
   "cell_type": "markdown",
   "id": "8aa79c1c",
   "metadata": {
    "papermill": {
     "duration": 0.00594,
     "end_time": "2023-01-14T23:56:46.804218",
     "exception": false,
     "start_time": "2023-01-14T23:56:46.798278",
     "status": "completed"
    },
    "tags": []
   },
   "source": [
    "<a id = 'data_description'></a>\n",
    "## 1. Data Description"
   ]
  },
  {
   "cell_type": "code",
   "execution_count": 4,
   "id": "772a2cfc",
   "metadata": {
    "execution": {
     "iopub.execute_input": "2023-01-14T23:56:46.818019Z",
     "iopub.status.busy": "2023-01-14T23:56:46.817714Z",
     "iopub.status.idle": "2023-01-14T23:56:46.828893Z",
     "shell.execute_reply": "2023-01-14T23:56:46.827945Z"
    },
    "papermill": {
     "duration": 0.020477,
     "end_time": "2023-01-14T23:56:46.830807",
     "exception": false,
     "start_time": "2023-01-14T23:56:46.810330",
     "status": "completed"
    },
    "tags": []
   },
   "outputs": [
    {
     "data": {
      "text/plain": [
       "1    36509\n",
       "0    35028\n",
       "Name: label, dtype: int64"
      ]
     },
     "execution_count": 4,
     "metadata": {},
     "output_type": "execute_result"
    }
   ],
   "source": [
    "df['label'].value_counts()"
   ]
  },
  {
   "cell_type": "code",
   "execution_count": 5,
   "id": "bcd5e847",
   "metadata": {
    "execution": {
     "iopub.execute_input": "2023-01-14T23:56:46.845280Z",
     "iopub.status.busy": "2023-01-14T23:56:46.844963Z",
     "iopub.status.idle": "2023-01-14T23:56:46.854174Z",
     "shell.execute_reply": "2023-01-14T23:56:46.853066Z"
    },
    "papermill": {
     "duration": 0.020144,
     "end_time": "2023-01-14T23:56:46.857519",
     "exception": false,
     "start_time": "2023-01-14T23:56:46.837375",
     "status": "completed"
    },
    "tags": []
   },
   "outputs": [
    {
     "data": {
      "text/plain": [
       "1    0.510351\n",
       "0    0.489649\n",
       "Name: label, dtype: float64"
      ]
     },
     "execution_count": 5,
     "metadata": {},
     "output_type": "execute_result"
    }
   ],
   "source": [
    "df['label'].value_counts(normalize=True)"
   ]
  },
  {
   "cell_type": "markdown",
   "id": "0b0fa577",
   "metadata": {
    "papermill": {
     "duration": 0.006147,
     "end_time": "2023-01-14T23:56:46.871320",
     "exception": false,
     "start_time": "2023-01-14T23:56:46.865173",
     "status": "completed"
    },
    "tags": []
   },
   "source": [
    "Let's see if fake news and real news are different in the length of the news article."
   ]
  },
  {
   "cell_type": "code",
   "execution_count": 6,
   "id": "86222e19",
   "metadata": {
    "execution": {
     "iopub.execute_input": "2023-01-14T23:56:46.884981Z",
     "iopub.status.busy": "2023-01-14T23:56:46.884719Z",
     "iopub.status.idle": "2023-01-14T23:56:50.186543Z",
     "shell.execute_reply": "2023-01-14T23:56:50.185590Z"
    },
    "papermill": {
     "duration": 3.310996,
     "end_time": "2023-01-14T23:56:50.188608",
     "exception": false,
     "start_time": "2023-01-14T23:56:46.877612",
     "status": "completed"
    },
    "tags": []
   },
   "outputs": [
    {
     "data": {
      "text/plain": [
       "Text(0.5, 1.0, 'Distribution of the News Words count')"
      ]
     },
     "execution_count": 6,
     "metadata": {},
     "output_type": "execute_result"
    },
    {
     "data": {
      "image/png": "[encoded data removed]",
      "text/plain": [
       "<Figure size 1296x360 with 1 Axes>"
      ]
     },
     "metadata": {
      "needs_background": "light"
     },
     "output_type": "display_data"
    }
   ],
   "source": [
    "df['num_words'] = df['text'].apply(lambda x: len(x.split()))\n",
    "plt.figure(figsize = (18,5))\n",
    "sns.histplot(df['num_words'], palette = 'Set1', alpha = 0.8,log_scale=True)\n",
    "plt.title('Distribution of the News Words count')"
   ]
  },
  {
   "cell_type": "code",
   "execution_count": 7,
   "id": "079a3f9c",
   "metadata": {
    "execution": {
     "iopub.execute_input": "2023-01-14T23:56:50.204178Z",
     "iopub.status.busy": "2023-01-14T23:56:50.203517Z",
     "iopub.status.idle": "2023-01-14T23:56:53.730049Z",
     "shell.execute_reply": "2023-01-14T23:56:53.729149Z"
    },
    "papermill": {
     "duration": 3.53635,
     "end_time": "2023-01-14T23:56:53.732077",
     "exception": false,
     "start_time": "2023-01-14T23:56:50.195727",
     "status": "completed"
    },
    "tags": []
   },
   "outputs": [
    {
     "data": {
      "text/plain": [
       "Text(0.5, 1.0, 'Distribution of the News Words count')"
      ]
     },
     "execution_count": 7,
     "metadata": {},
     "output_type": "execute_result"
    },
    {
     "data": {
      "image/png": "[encoded data removed]",
      "text/plain": [
       "<Figure size 1296x360 with 1 Axes>"
      ]
     },
     "metadata": {
      "needs_background": "light"
     },
     "output_type": "display_data"
    }
   ],
   "source": [
    "df['num_words'] = df['text'].apply(lambda x: len(x.split()))\n",
    "plt.figure(figsize = (18,5))\n",
    "sns.histplot(data=df,x='num_words',hue='label',alpha = 0.8, log_scale=True)\n",
    "plt.title('Distribution of the News Words count')"
   ]
  },
  {
   "cell_type": "markdown",
   "id": "2ba2498e",
   "metadata": {
    "papermill": {
     "duration": 0.006829,
     "end_time": "2023-01-14T23:56:53.746421",
     "exception": false,
     "start_time": "2023-01-14T23:56:53.739592",
     "status": "completed"
    },
    "tags": []
   },
   "source": [
    "The fake news are not very different from real news in their word counts. \n",
    "\n",
    "Let's explore if they use different words."
   ]
  },
  {
   "cell_type": "code",
   "execution_count": 8,
   "id": "364996e7",
   "metadata": {
    "_kg_hide-input": true,
    "execution": {
     "iopub.execute_input": "2023-01-14T23:56:53.763334Z",
     "iopub.status.busy": "2023-01-14T23:56:53.761642Z",
     "iopub.status.idle": "2023-01-14T23:57:06.395050Z",
     "shell.execute_reply": "2023-01-14T23:57:06.394125Z"
    },
    "papermill": {
     "duration": 12.643612,
     "end_time": "2023-01-14T23:57:06.397195",
     "exception": false,
     "start_time": "2023-01-14T23:56:53.753583",
     "status": "completed"
    },
    "tags": []
   },
   "outputs": [
    {
     "data": {
      "text/plain": [
       "<AxesSubplot:xlabel='word', ylabel='count'>"
      ]
     },
     "execution_count": 8,
     "metadata": {},
     "output_type": "execute_result"
    },
    {
     "data": {
      "image/png": "[encoded data removed]",
      "text/plain": [
       "<Figure size 1296x360 with 2 Axes>"
      ]
     },
     "metadata": {
      "needs_background": "light"
     },
     "output_type": "display_data"
    }
   ],
   "source": [
    "#get word collections for real/fake news\n",
    "fake_news_words = collections.Counter([word for sentence in df[df['label'] == 0]['text'] for word in sentence.split()])\n",
    "real_news_words = collections.Counter([word for sentence in df[df['label'] == 1]['text'] for word in sentence.split()])\n",
    "df_mc_fake = pd.DataFrame(columns = ['word','count'], data=(fake_news_words.most_common(25)))\n",
    "df_mc_real = pd.DataFrame(columns = ['word','count'], data=(fake_news_words.most_common(25)))\n",
    "\n",
    "fig, axes = plt.subplots(1,2,figsize = (18, 5))\n",
    "sns.barplot(data = df_mc_fake, x= 'word', y = 'count', color = '#dd0000', alpha = 0.8, ax = axes[0])\n",
    "#axes[0].tickparams(axis = 'x', rotation = 90)\n",
    "sns.barplot(data = df_mc_real, x= 'word', y = 'count', color = '#0000dd', alpha = 0.8, ax = axes[1])"
   ]
  },
  {
   "cell_type": "markdown",
   "id": "bfc3b90c",
   "metadata": {
    "papermill": {
     "duration": 0.007206,
     "end_time": "2023-01-14T23:57:06.412056",
     "exception": false,
     "start_time": "2023-01-14T23:57:06.404850",
     "status": "completed"
    },
    "tags": []
   },
   "source": [
    "The fake and real news do not seem to use different words, at least not captured in the most common 25 words.\n",
    "\n",
    "Now we will use neural networks to detect the difference between the fake and real news. "
   ]
  },
  {
   "cell_type": "markdown",
   "id": "059f539e",
   "metadata": {
    "papermill": {
     "duration": 0.006922,
     "end_time": "2023-01-14T23:57:06.426123",
     "exception": false,
     "start_time": "2023-01-14T23:57:06.419201",
     "status": "completed"
    },
    "tags": []
   },
   "source": [
    "<a id = 'prepare_input'></a>\n",
    "## 2. Preparing the input"
   ]
  },
  {
   "cell_type": "code",
   "execution_count": 9,
   "id": "75c74744",
   "metadata": {
    "execution": {
     "iopub.execute_input": "2023-01-14T23:57:06.442142Z",
     "iopub.status.busy": "2023-01-14T23:57:06.441835Z",
     "iopub.status.idle": "2023-01-14T23:57:06.472903Z",
     "shell.execute_reply": "2023-01-14T23:57:06.472033Z"
    },
    "papermill": {
     "duration": 0.041421,
     "end_time": "2023-01-14T23:57:06.474982",
     "exception": false,
     "start_time": "2023-01-14T23:57:06.433561",
     "status": "completed"
    },
    "tags": []
   },
   "outputs": [],
   "source": [
    "#split the dataset into training and test sets\n",
    "X_train, X_test, y_train, y_test = train_test_split(X, y, stratify = y, random_state = SEED)"
   ]
  },
  {
   "cell_type": "markdown",
   "id": "89f6172f",
   "metadata": {
    "papermill": {
     "duration": 0.007082,
     "end_time": "2023-01-14T23:57:06.489299",
     "exception": false,
     "start_time": "2023-01-14T23:57:06.482217",
     "status": "completed"
    },
    "tags": []
   },
   "source": [
    "<a id = 'tokenization'></a>\n",
    "## 2.1 Tokenization "
   ]
  },
  {
   "cell_type": "code",
   "execution_count": 10,
   "id": "98031c23",
   "metadata": {
    "execution": {
     "iopub.execute_input": "2023-01-14T23:57:06.505338Z",
     "iopub.status.busy": "2023-01-14T23:57:06.504544Z",
     "iopub.status.idle": "2023-01-14T23:58:14.229839Z",
     "shell.execute_reply": "2023-01-14T23:58:14.228838Z"
    },
    "papermill": {
     "duration": 67.743874,
     "end_time": "2023-01-14T23:58:14.240366",
     "exception": false,
     "start_time": "2023-01-14T23:57:06.496492",
     "status": "completed"
    },
    "tags": []
   },
   "outputs": [
    {
     "name": "stdout",
     "output_type": "stream",
     "text": [
      "Train vocabulary size: 286000\n"
     ]
    }
   ],
   "source": [
    "#define Keras Tokenizer\n",
    "tok = Tokenizer()\n",
    "tok.fit_on_texts(X_train)\n",
    "\n",
    "#return sequences\n",
    "sequences = tok.texts_to_sequences(X_train)\n",
    "test_sequences = tok.texts_to_sequences(X_test)\n",
    "\n",
    "#print size of the vocabulary\n",
    "print(f'Train vocabulary size: {len(tok.word_index)}')"
   ]
  },
  {
   "cell_type": "markdown",
   "id": "11116fa8",
   "metadata": {
    "papermill": {
     "duration": 0.007565,
     "end_time": "2023-01-14T23:58:14.256411",
     "exception": false,
     "start_time": "2023-01-14T23:58:14.248846",
     "status": "completed"
    },
    "tags": []
   },
   "source": [
    "<a id = 'sequences'></a>\n",
    "## 2.2 Pad sequences to fixed lenght"
   ]
  },
  {
   "cell_type": "code",
   "execution_count": 11,
   "id": "ab610b7c",
   "metadata": {
    "execution": {
     "iopub.execute_input": "2023-01-14T23:58:14.273197Z",
     "iopub.status.busy": "2023-01-14T23:58:14.272829Z",
     "iopub.status.idle": "2023-01-14T23:58:15.571329Z",
     "shell.execute_reply": "2023-01-14T23:58:15.570186Z"
    },
    "papermill": {
     "duration": 1.310202,
     "end_time": "2023-01-14T23:58:15.574195",
     "exception": false,
     "start_time": "2023-01-14T23:58:14.263993",
     "status": "completed"
    },
    "tags": []
   },
   "outputs": [],
   "source": [
    "#maximum sequence length (512 to prevent memory issues and speed up computation)\n",
    "MAX_LEN = 512\n",
    "\n",
    "#padded sequences\n",
    "X_train_seq = sequence.pad_sequences(sequences,maxlen=MAX_LEN)\n",
    "X_test_seq = sequence.pad_sequences(test_sequences,maxlen=MAX_LEN)"
   ]
  },
  {
   "cell_type": "code",
   "execution_count": 12,
   "id": "42838d8a",
   "metadata": {
    "execution": {
     "iopub.execute_input": "2023-01-14T23:58:15.591833Z",
     "iopub.status.busy": "2023-01-14T23:58:15.591481Z",
     "iopub.status.idle": "2023-01-14T23:58:15.598403Z",
     "shell.execute_reply": "2023-01-14T23:58:15.597255Z"
    },
    "papermill": {
     "duration": 0.019083,
     "end_time": "2023-01-14T23:58:15.601385",
     "exception": false,
     "start_time": "2023-01-14T23:58:15.582302",
     "status": "completed"
    },
    "tags": []
   },
   "outputs": [
    {
     "data": {
      "text/plain": [
       "512"
      ]
     },
     "execution_count": 12,
     "metadata": {},
     "output_type": "execute_result"
    }
   ],
   "source": [
    "X_train_seq.shape[1]"
   ]
  },
  {
   "cell_type": "markdown",
   "id": "2af3dfc5",
   "metadata": {
    "papermill": {
     "duration": 0.00785,
     "end_time": "2023-01-14T23:58:15.616988",
     "exception": false,
     "start_time": "2023-01-14T23:58:15.609138",
     "status": "completed"
    },
    "tags": []
   },
   "source": [
    "<a id = 'train_evaluate'></a>\n",
    "## 3. Train and evaluate the Keras LSTM model"
   ]
  },
  {
   "cell_type": "markdown",
   "id": "8ffce298",
   "metadata": {
    "papermill": {
     "duration": 0.007549,
     "end_time": "2023-01-14T23:58:15.632085",
     "exception": false,
     "start_time": "2023-01-14T23:58:15.624536",
     "status": "completed"
    },
    "tags": []
   },
   "source": [
    "<a id = 'define_model'></a>\n",
    "## 3.1 Define the model"
   ]
  },
  {
   "cell_type": "markdown",
   "id": "29157e8a",
   "metadata": {
    "papermill": {
     "duration": 0.008678,
     "end_time": "2023-01-14T23:58:15.649524",
     "exception": false,
     "start_time": "2023-01-14T23:58:15.640846",
     "status": "completed"
    },
    "tags": []
   },
   "source": []
  },
  {
   "cell_type": "code",
   "execution_count": 13,
   "id": "35fa38d5",
   "metadata": {
    "execution": {
     "iopub.execute_input": "2023-01-14T23:58:15.669098Z",
     "iopub.status.busy": "2023-01-14T23:58:15.668028Z",
     "iopub.status.idle": "2023-01-14T23:58:19.564299Z",
     "shell.execute_reply": "2023-01-14T23:58:19.563189Z"
    },
    "papermill": {
     "duration": 3.910188,
     "end_time": "2023-01-14T23:58:19.568397",
     "exception": false,
     "start_time": "2023-01-14T23:58:15.658209",
     "status": "completed"
    },
    "tags": []
   },
   "outputs": [
    {
     "name": "stderr",
     "output_type": "stream",
     "text": [
      "2023-01-14 23:58:16.057794: I tensorflow/stream_executor/cuda/cuda_gpu_executor.cc:937] successful NUMA node read from SysFS had negative value (-1), but there must be at least one NUMA node, so returning NUMA node zero\n",
      "2023-01-14 23:58:16.160674: I tensorflow/stream_executor/cuda/cuda_gpu_executor.cc:937] successful NUMA node read from SysFS had negative value (-1), but there must be at least one NUMA node, so returning NUMA node zero\n",
      "2023-01-14 23:58:16.161565: I tensorflow/stream_executor/cuda/cuda_gpu_executor.cc:937] successful NUMA node read from SysFS had negative value (-1), but there must be at least one NUMA node, so returning NUMA node zero\n",
      "2023-01-14 23:58:16.163558: I tensorflow/core/platform/cpu_feature_guard.cc:142] This TensorFlow binary is optimized with oneAPI Deep Neural Network Library (oneDNN) to use the following CPU instructions in performance-critical operations:  AVX2 AVX512F FMA\n",
      "To enable them in other operations, rebuild TensorFlow with the appropriate compiler flags.\n",
      "2023-01-14 23:58:16.164004: I tensorflow/stream_executor/cuda/cuda_gpu_executor.cc:937] successful NUMA node read from SysFS had negative value (-1), but there must be at least one NUMA node, so returning NUMA node zero\n",
      "2023-01-14 23:58:16.164983: I tensorflow/stream_executor/cuda/cuda_gpu_executor.cc:937] successful NUMA node read from SysFS had negative value (-1), but there must be at least one NUMA node, so returning NUMA node zero\n",
      "2023-01-14 23:58:16.165942: I tensorflow/stream_executor/cuda/cuda_gpu_executor.cc:937] successful NUMA node read from SysFS had negative value (-1), but there must be at least one NUMA node, so returning NUMA node zero\n",
      "2023-01-14 23:58:18.322855: I tensorflow/stream_executor/cuda/cuda_gpu_executor.cc:937] successful NUMA node read from SysFS had negative value (-1), but there must be at least one NUMA node, so returning NUMA node zero\n",
      "2023-01-14 23:58:18.323766: I tensorflow/stream_executor/cuda/cuda_gpu_executor.cc:937] successful NUMA node read from SysFS had negative value (-1), but there must be at least one NUMA node, so returning NUMA node zero\n",
      "2023-01-14 23:58:18.324448: I tensorflow/stream_executor/cuda/cuda_gpu_executor.cc:937] successful NUMA node read from SysFS had negative value (-1), but there must be at least one NUMA node, so returning NUMA node zero\n",
      "2023-01-14 23:58:18.325031: I tensorflow/core/common_runtime/gpu/gpu_device.cc:1510] Created device /job:localhost/replica:0/task:0/device:GPU:0 with 15403 MB memory:  -> device: 0, name: Tesla P100-PCIE-16GB, pci bus id: 0000:00:04.0, compute capability: 6.0\n"
     ]
    },
    {
     "name": "stdout",
     "output_type": "stream",
     "text": [
      "Model: \"sequential\"\n",
      "_________________________________________________________________\n",
      "Layer (type)                 Output Shape              Param #   \n",
      "=================================================================\n",
      "embedding (Embedding)        (None, 512, 128)          36608000  \n",
      "_________________________________________________________________\n",
      "bidirectional (Bidirectional (None, 512, 256)          263168    \n",
      "_________________________________________________________________\n",
      "bidirectional_1 (Bidirection (None, 128)               164352    \n",
      "_________________________________________________________________\n",
      "dense (Dense)                (None, 64)                8256      \n",
      "_________________________________________________________________\n",
      "dropout (Dropout)            (None, 64)                0         \n",
      "_________________________________________________________________\n",
      "dense_1 (Dense)              (None, 1)                 65        \n",
      "=================================================================\n",
      "Total params: 37,043,841\n",
      "Trainable params: 37,043,841\n",
      "Non-trainable params: 0\n",
      "_________________________________________________________________\n"
     ]
    }
   ],
   "source": [
    "#define the model\n",
    "model = tf.keras.Sequential([\n",
    "    Input(name='inputs',shape=[MAX_LEN]),\n",
    "    Embedding(len(tok.word_index), 128),\n",
    "    Bidirectional(tf.keras.layers.LSTM(128,  return_sequences=True)),\n",
    "    Bidirectional(tf.keras.layers.LSTM(64)),\n",
    "    Dense(64, activation='relu'),\n",
    "    Dropout(0.5),\n",
    "    Dense(1, activation='sigmoid')\n",
    "])\n",
    "\n",
    "#compile model\n",
    "model.compile(loss=tf.keras.losses.BinaryCrossentropy(),\n",
    "              optimizer=tf.keras.optimizers.Adam(1e-4),\n",
    "              metrics=['accuracy'])\n",
    "\n",
    "#model summary\n",
    "model.summary()"
   ]
  },
  {
   "cell_type": "code",
   "execution_count": 14,
   "id": "1a17f481",
   "metadata": {
    "execution": {
     "iopub.execute_input": "2023-01-14T23:58:19.594894Z",
     "iopub.status.busy": "2023-01-14T23:58:19.593905Z",
     "iopub.status.idle": "2023-01-14T23:58:20.588252Z",
     "shell.execute_reply": "2023-01-14T23:58:20.587160Z"
    },
    "papermill": {
     "duration": 1.006171,
     "end_time": "2023-01-14T23:58:20.590441",
     "exception": false,
     "start_time": "2023-01-14T23:58:19.584270",
     "status": "completed"
    },
    "tags": []
   },
   "outputs": [
    {
     "data": {
      "image/png": "[encoded data removed]",
      "text/plain": [
       "<IPython.core.display.Image object>"
      ]
     },
     "execution_count": 14,
     "metadata": {},
     "output_type": "execute_result"
    }
   ],
   "source": [
    "#plot the model architecture\n",
    "tf.keras.utils.plot_model(model)"
   ]
  },
  {
   "cell_type": "markdown",
   "id": "dc9beafb",
   "metadata": {
    "papermill": {
     "duration": 0.008071,
     "end_time": "2023-01-14T23:58:20.606987",
     "exception": false,
     "start_time": "2023-01-14T23:58:20.598916",
     "status": "completed"
    },
    "tags": []
   },
   "source": [
    "<a id = 'train_model'></a>\n",
    "## 3.2 Training the model"
   ]
  },
  {
   "cell_type": "markdown",
   "id": "e3e89ec2",
   "metadata": {
    "papermill": {
     "duration": 0.007746,
     "end_time": "2023-01-14T23:58:20.622809",
     "exception": false,
     "start_time": "2023-01-14T23:58:20.615063",
     "status": "completed"
    },
    "tags": []
   },
   "source": [
    "We will use a validation split of 20% during the training"
   ]
  },
  {
   "cell_type": "code",
   "execution_count": 15,
   "id": "08c94457",
   "metadata": {
    "execution": {
     "iopub.execute_input": "2023-01-14T23:58:20.640255Z",
     "iopub.status.busy": "2023-01-14T23:58:20.639919Z",
     "iopub.status.idle": "2023-01-15T00:02:49.635492Z",
     "shell.execute_reply": "2023-01-15T00:02:49.634453Z"
    },
    "papermill": {
     "duration": 269.00735,
     "end_time": "2023-01-15T00:02:49.638150",
     "exception": false,
     "start_time": "2023-01-14T23:58:20.630800",
     "status": "completed"
    },
    "tags": []
   },
   "outputs": [
    {
     "name": "stderr",
     "output_type": "stream",
     "text": [
      "2023-01-14 23:58:20.769488: I tensorflow/compiler/mlir/mlir_graph_optimization_pass.cc:185] None of the MLIR Optimization Passes are enabled (registered 2)\n"
     ]
    },
    {
     "name": "stdout",
     "output_type": "stream",
     "text": [
      "Epoch 1/3\n"
     ]
    },
    {
     "name": "stderr",
     "output_type": "stream",
     "text": [
      "2023-01-14 23:58:26.766104: I tensorflow/stream_executor/cuda/cuda_dnn.cc:369] Loaded cuDNN version 8005\n"
     ]
    },
    {
     "name": "stdout",
     "output_type": "stream",
     "text": [
      "671/671 [==============================] - 95s 131ms/step - loss: 0.2864 - accuracy: 0.8662 - val_loss: 0.1180 - val_accuracy: 0.9575\n",
      "Epoch 2/3\n",
      "671/671 [==============================] - 87s 130ms/step - loss: 0.0731 - accuracy: 0.9785 - val_loss: 0.0879 - val_accuracy: 0.9705\n",
      "Epoch 3/3\n",
      "671/671 [==============================] - 86s 128ms/step - loss: 0.0313 - accuracy: 0.9917 - val_loss: 0.0985 - val_accuracy: 0.9741\n"
     ]
    }
   ],
   "source": [
    "history = model.fit(X_train_seq, y_train, epochs=3,\n",
    "                    validation_split = 0.2, batch_size = 64, callbacks=[EarlyStopping(monitor='val_accuracy',mode='max', patience=3, verbose=False,restore_best_weights=True)])"
   ]
  },
  {
   "cell_type": "code",
   "execution_count": 16,
   "id": "71a8ac0e",
   "metadata": {
    "execution": {
     "iopub.execute_input": "2023-01-15T00:02:49.856550Z",
     "iopub.status.busy": "2023-01-15T00:02:49.856166Z",
     "iopub.status.idle": "2023-01-15T00:02:50.186965Z",
     "shell.execute_reply": "2023-01-15T00:02:50.186032Z"
    },
    "papermill": {
     "duration": 0.44262,
     "end_time": "2023-01-15T00:02:50.189147",
     "exception": false,
     "start_time": "2023-01-15T00:02:49.746527",
     "status": "completed"
    },
    "tags": []
   },
   "outputs": [
    {
     "data": {
      "image/png": "[encoded data removed]",
      "text/plain": [
       "<Figure size 1152x432 with 2 Axes>"
      ]
     },
     "metadata": {
      "needs_background": "light"
     },
     "output_type": "display_data"
    }
   ],
   "source": [
    "#plot the train/validation loss and accuracy\n",
    "def plot_graphs(history, metric):\n",
    "    \n",
    "    plt.plot(history.history[metric])\n",
    "    plt.plot(history.history['val_'+metric], '')\n",
    "    plt.xlabel(\"Epochs\")\n",
    "    plt.ylabel(metric)\n",
    "    plt.legend([metric, 'val_'+metric])\n",
    "\n",
    "\n",
    "plt.figure(figsize=(16, 6))\n",
    "plt.subplot(1, 2, 1)\n",
    "plot_graphs(history, 'accuracy')\n",
    "plt.subplot(1, 2, 2)\n",
    "plot_graphs(history, 'loss')"
   ]
  },
  {
   "cell_type": "markdown",
   "id": "1d696fe8",
   "metadata": {
    "papermill": {
     "duration": 0.11016,
     "end_time": "2023-01-15T00:02:50.409169",
     "exception": false,
     "start_time": "2023-01-15T00:02:50.299009",
     "status": "completed"
    },
    "tags": []
   },
   "source": [
    "<a id = 'evaluate_model'></a>\n",
    "## 3.3 Evaluate the model"
   ]
  },
  {
   "cell_type": "markdown",
   "id": "3e3ff9f1",
   "metadata": {
    "execution": {
     "iopub.execute_input": "2022-08-24T12:53:15.790214Z",
     "iopub.status.busy": "2022-08-24T12:53:15.789857Z",
     "iopub.status.idle": "2022-08-24T12:53:15.797269Z",
     "shell.execute_reply": "2022-08-24T12:53:15.795904Z",
     "shell.execute_reply.started": "2022-08-24T12:53:15.790182Z"
    },
    "papermill": {
     "duration": 0.110269,
     "end_time": "2023-01-15T00:02:50.630091",
     "exception": false,
     "start_time": "2023-01-15T00:02:50.519822",
     "status": "completed"
    },
    "tags": []
   },
   "source": [
    "<i><font size = 3.5>For final evaluation we use the separate test set</font></i>"
   ]
  },
  {
   "cell_type": "code",
   "execution_count": 17,
   "id": "a61fe529",
   "metadata": {
    "execution": {
     "iopub.execute_input": "2023-01-15T00:02:50.849704Z",
     "iopub.status.busy": "2023-01-15T00:02:50.848774Z",
     "iopub.status.idle": "2023-01-15T00:03:32.988827Z",
     "shell.execute_reply": "2023-01-15T00:03:32.986941Z"
    },
    "papermill": {
     "duration": 42.427794,
     "end_time": "2023-01-15T00:03:33.166899",
     "exception": false,
     "start_time": "2023-01-15T00:02:50.739105",
     "status": "completed"
    },
    "tags": []
   },
   "outputs": [
    {
     "name": "stdout",
     "output_type": "stream",
     "text": [
      "559/559 [==============================] - 21s 37ms/step - loss: 0.1060 - accuracy: 0.9719\n",
      "Test Loss: 0.10600671172142029\n",
      "Test Accuracy: 0.9719318151473999\n"
     ]
    }
   ],
   "source": [
    "test_loss, test_acc = model.evaluate(X_test_seq, y_test)\n",
    "y_hat = model.predict(X_test_seq)\n",
    "\n",
    "print('Test Loss:', test_loss)\n",
    "print('Test Accuracy:', test_acc)"
   ]
  },
  {
   "cell_type": "code",
   "execution_count": 18,
   "id": "cc5a1974",
   "metadata": {
    "execution": {
     "iopub.execute_input": "2023-01-15T00:03:33.416065Z",
     "iopub.status.busy": "2023-01-15T00:03:33.415716Z",
     "iopub.status.idle": "2023-01-15T00:03:33.447613Z",
     "shell.execute_reply": "2023-01-15T00:03:33.445944Z"
    },
    "papermill": {
     "duration": 0.159182,
     "end_time": "2023-01-15T00:03:33.450162",
     "exception": false,
     "start_time": "2023-01-15T00:03:33.290980",
     "status": "completed"
    },
    "tags": []
   },
   "outputs": [
    {
     "name": "stdout",
     "output_type": "stream",
     "text": [
      "              precision    recall  f1-score   support\n",
      "\n",
      "           0       0.98      0.97      0.97      8757\n",
      "           1       0.97      0.98      0.97      9128\n",
      "\n",
      "    accuracy                           0.97     17885\n",
      "   macro avg       0.97      0.97      0.97     17885\n",
      "weighted avg       0.97      0.97      0.97     17885\n",
      "\n"
     ]
    }
   ],
   "source": [
    "## print classification report\n",
    "print(classification_report(y_test, np.where(y_hat >= 0.510351, 1, 0)))"
   ]
  },
  {
   "cell_type": "code",
   "execution_count": 19,
   "id": "fad7a4b8",
   "metadata": {
    "execution": {
     "iopub.execute_input": "2023-01-15T00:03:33.710001Z",
     "iopub.status.busy": "2023-01-15T00:03:33.707931Z",
     "iopub.status.idle": "2023-01-15T00:03:33.947180Z",
     "shell.execute_reply": "2023-01-15T00:03:33.946252Z"
    },
    "papermill": {
     "duration": 0.37213,
     "end_time": "2023-01-15T00:03:33.949467",
     "exception": false,
     "start_time": "2023-01-15T00:03:33.577337",
     "status": "completed"
    },
    "tags": []
   },
   "outputs": [
    {
     "data": {
      "text/plain": [
       "Text(33.0, 0.5, 'Real Labels')"
      ]
     },
     "execution_count": 19,
     "metadata": {},
     "output_type": "execute_result"
    },
    {
     "data": {
      "image/png": "[encoded data removed]",
      "text/plain": [
       "<Figure size 432x360 with 2 Axes>"
      ]
     },
     "metadata": {
      "needs_background": "light"
     },
     "output_type": "display_data"
    }
   ],
   "source": [
    "#plot the confusion matrix\n",
    "plt.figure(figsize = (6,5))\n",
    "\n",
    "sns.heatmap(confusion_matrix(y_test, np.where(y_hat >= 0.510351, 1, 0)), annot=True, \n",
    "            fmt='', cmap='Blues')\n",
    "\n",
    "plt.xlabel('Predicted Labels')\n",
    "plt.ylabel('Real Labels')"
   ]
  },
  {
   "cell_type": "markdown",
   "id": "2ba184b8",
   "metadata": {
    "papermill": {
     "duration": 0.12445,
     "end_time": "2023-01-15T00:03:34.202876",
     "exception": false,
     "start_time": "2023-01-15T00:03:34.078426",
     "status": "completed"
    },
    "tags": []
   },
   "source": [
    "<a id = 'conclusion'></a>\n",
    "## Conclusion\n",
    "The sequencial neural networks model estimated using Keras has very high accuracy around 97."
   ]
  }
 ],
 "metadata": {
  "kernelspec": {
   "display_name": "Python 3 (ipykernel)",
   "language": "python",
   "name": "python3"
  },
  "language_info": {
   "codemirror_mode": {
    "name": "ipython",
    "version": 3
   },
   "file_extension": ".py",
   "mimetype": "text/x-python",
   "name": "python",
   "nbconvert_exporter": "python",
   "pygments_lexer": "ipython3",
   "version": "3.7.4"
  },
  "papermill": {
   "default_parameters": {},
   "duration": 430.463046,
   "end_time": "2023-01-15T00:03:38.061036",
   "environment_variables": {},
   "exception": null,
   "input_path": "__notebook__.ipynb",
   "output_path": "__notebook__.ipynb",
   "parameters": {},
   "start_time": "2023-01-14T23:56:27.597990",
   "version": "2.3.4"
  }
 },
 "nbformat": 4,
 "nbformat_minor": 5
}
